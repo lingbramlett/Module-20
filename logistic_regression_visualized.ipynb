{
 "cells": [
  {
   "cell_type": "markdown",
   "id": "3f111cb4",
   "metadata": {},
   "source": [
    "# Loan Risk Classification\n",
    "\n",
    "This notebook analyzes loan risk using logistic regression."
   ]
  },
  {
   "cell_type": "markdown",
   "id": "c1d29ba3",
   "metadata": {},
   "source": [
    "## Split the Data into Training and Testing Sets\n",
    "### Step 1: Read the `lending_data.csv` data into a Pandas DataFrame."
   ]
  },
  {
   "cell_type": "code",
   "execution_count": null,
   "id": "bc08eb5e",
   "metadata": {},
   "outputs": [],
   "source": [
    "\n",
    "# Required Libraries\n",
    "import numpy as np\n",
    "import pandas as pd\n",
    "import matplotlib.pyplot as plt\n",
    "import seaborn as sns\n",
    "from pathlib import Path\n",
    "from sklearn.model_selection import train_test_split\n",
    "from sklearn.linear_model import LogisticRegression\n",
    "from sklearn.metrics import confusion_matrix, classification_report\n",
    "\n",
    "# Load the Dataset\n",
    "file_location = Path(\"Resources/lending_data.csv\")\n",
    "lending_data = pd.read_csv(file_location)\n",
    "\n",
    "# Display Initial Data Preview\n",
    "lending_data.head()\n"
   ]
  },
  {
   "cell_type": "markdown",
   "id": "a350fb04",
   "metadata": {},
   "source": [
    "### Step 2: Define the labels (`y`) and features (`X`)."
   ]
  },
  {
   "cell_type": "code",
   "execution_count": null,
   "id": "ab2886cd",
   "metadata": {},
   "outputs": [],
   "source": [
    "\n",
    "# Define Features and Target Variable\n",
    "target = lending_data[\"loan_status\"]\n",
    "features = lending_data.drop(columns=[\"loan_status\"])\n",
    "\n",
    "# Verify the Separated Data\n",
    "print(target.head())\n",
    "print(features.head())\n"
   ]
  },
  {
   "cell_type": "markdown",
   "id": "0a7bde74",
   "metadata": {},
   "source": [
    "### Step 3: Split the data into training and testing datasets."
   ]
  },
  {
   "cell_type": "code",
   "execution_count": null,
   "id": "36e4fb7e",
   "metadata": {},
   "outputs": [],
   "source": [
    "\n",
    "# Split Data into Training and Testing Sets\n",
    "X_train, X_test, y_train, y_test = train_test_split(\n",
    "    features, target, test_size=0.25, random_state=42, stratify=target\n",
    ")\n"
   ]
  },
  {
   "cell_type": "markdown",
   "id": "71cd1f40",
   "metadata": {},
   "source": [
    "## Train a Logistic Regression Model"
   ]
  },
  {
   "cell_type": "code",
   "execution_count": null,
   "id": "442c3903",
   "metadata": {},
   "outputs": [],
   "source": [
    "\n",
    "# Initialize and Train Logistic Regression Model\n",
    "log_model = LogisticRegression(solver='lbfgs', random_state=42)\n",
    "log_model.fit(X_train, y_train)\n"
   ]
  },
  {
   "cell_type": "markdown",
   "id": "209ec30c",
   "metadata": {},
   "source": [
    "### Step 5: Generate predictions on test data."
   ]
  },
  {
   "cell_type": "code",
   "execution_count": null,
   "id": "e67e9a83",
   "metadata": {},
   "outputs": [],
   "source": [
    "\n",
    "# Generate Predictions\n",
    "predicted_values = log_model.predict(X_test)\n"
   ]
  },
  {
   "cell_type": "markdown",
   "id": "495fb354",
   "metadata": {},
   "source": [
    "## Evaluate the Model Performance"
   ]
  },
  {
   "cell_type": "code",
   "execution_count": null,
   "id": "e054effa",
   "metadata": {},
   "outputs": [],
   "source": [
    "\n",
    "# Evaluate Model Performance\n",
    "conf_matrix = confusion_matrix(y_test, predicted_values)\n",
    "print(\"Confusion Matrix:\")\n",
    "print(conf_matrix)\n",
    "\n",
    "report = classification_report(y_test, predicted_values, target_names=[\"Safe Loan\", \"Risky Loan\"])\n",
    "print(\"Classification Report:\")\n",
    "print(report)\n"
   ]
  },
  {
   "cell_type": "markdown",
   "id": "5d49211a",
   "metadata": {},
   "source": [
    "## Visualizing the Results"
   ]
  },
  {
   "cell_type": "code",
   "execution_count": null,
   "id": "934fc5dc",
   "metadata": {},
   "outputs": [],
   "source": [
    "\n",
    "# Plot Confusion Matrix Heatmap\n",
    "plt.figure(figsize=(6, 4))\n",
    "sns.heatmap(conf_matrix, annot=True, fmt=\"d\", cmap=\"Blues\", xticklabels=[\"Safe Loan\", \"Risky Loan\"], yticklabels=[\"Safe Loan\", \"Risky Loan\"])\n",
    "plt.xlabel(\"Predicted Label\")\n",
    "plt.ylabel(\"Actual Label\")\n",
    "plt.title(\"Confusion Matrix Heatmap\")\n",
    "plt.show()\n"
   ]
  }
 ],
 "metadata": {},
 "nbformat": 4,
 "nbformat_minor": 5
}
